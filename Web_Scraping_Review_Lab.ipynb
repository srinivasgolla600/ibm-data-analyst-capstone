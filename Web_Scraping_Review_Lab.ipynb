{
  "cells": [
    {
      "cell_type": "markdown",
      "metadata": {
        "id": "fXICNhFEqN-O"
      },
      "source": [
        "<p style=\"text-align:center\">\n",
        "    <a href=\"https://skills.network/?utm_medium=Exinfluencer&utm_source=Exinfluencer&utm_content=000026UJ&utm_term=10006555&utm_id=NA-SkillsNetwork-Channel-SkillsNetworkCoursesIBMDA0321ENSkillsNetwork928-2022-01-01\" target=\"_blank\">\n",
        "    <img src=\"https://cf-courses-data.s3.us.cloud-object-storage.appdomain.cloud/assets/logos/SN_web_lightmode.png\" width=\"200\" alt=\"Skills Network Logo\"  />\n",
        "    </a>\n",
        "</p>\n"
      ]
    },
    {
      "cell_type": "markdown",
      "metadata": {
        "id": "Wp17Fry0qN-e"
      },
      "source": [
        "# **Web Scraping Lab**\n"
      ]
    },
    {
      "cell_type": "markdown",
      "metadata": {
        "id": "22BM5gOLqN-g"
      },
      "source": [
        "Estimated time needed: **30** minutes\n"
      ]
    },
    {
      "cell_type": "markdown",
      "metadata": {
        "id": "8IiVh9UdqN-h"
      },
      "source": [
        "## Objectives\n"
      ]
    },
    {
      "cell_type": "markdown",
      "metadata": {
        "id": "GNaPPEQzqN-i"
      },
      "source": [
        "After completing this lab you will be able to:\n"
      ]
    },
    {
      "cell_type": "markdown",
      "metadata": {
        "id": "j0MjLDVIqN-j"
      },
      "source": [
        "* Download a webpage using requests module\n",
        "* Scrape all links from a web page\n",
        "* Scrape all image urls from a web page\n",
        "* Scrape data from html tables\n"
      ]
    },
    {
      "cell_type": "markdown",
      "metadata": {
        "id": "QnN5xtJ_qN-l"
      },
      "source": [
        "## Scrape www.ibm.com\n"
      ]
    },
    {
      "cell_type": "markdown",
      "metadata": {
        "id": "b7gIKG2oqN-n"
      },
      "source": [
        "Import the required modules and functions\n"
      ]
    },
    {
      "cell_type": "code",
      "execution_count": null,
      "metadata": {
        "id": "23VAd5h_qN-p"
      },
      "outputs": [],
      "source": [
        "from bs4 import BeautifulSoup # this module helps in web scrapping.\n",
        "import requests  # this module helps us to download a web page"
      ]
    },
    {
      "cell_type": "markdown",
      "metadata": {
        "id": "HhvObLegqN-r"
      },
      "source": [
        "Download the contents of the web page\n"
      ]
    },
    {
      "cell_type": "code",
      "execution_count": null,
      "metadata": {
        "id": "nAgSWj8oqN-s"
      },
      "outputs": [],
      "source": [
        "url = \"http://www.ibm.com\""
      ]
    },
    {
      "cell_type": "code",
      "execution_count": null,
      "metadata": {
        "id": "_mtyd5YcqN-t"
      },
      "outputs": [],
      "source": [
        "# get the contents of the webpage in text format and store in a variable called data\n",
        "data  = requests.get(url).text"
      ]
    },
    {
      "cell_type": "markdown",
      "metadata": {
        "id": "BF9C_4iVqN-t"
      },
      "source": [
        "Create a soup object using the class BeautifulSoup\n"
      ]
    },
    {
      "cell_type": "code",
      "execution_count": null,
      "metadata": {
        "id": "FmMeRkNtqN-u"
      },
      "outputs": [],
      "source": [
        "soup = BeautifulSoup(data,\"html5lib\")  # create a soup object using the variable 'data'"
      ]
    },
    {
      "cell_type": "markdown",
      "metadata": {
        "id": "MrL3-wK2qN-u"
      },
      "source": [
        "Scrape all links\n"
      ]
    },
    {
      "cell_type": "code",
      "execution_count": null,
      "metadata": {
        "colab": {
          "base_uri": "https://localhost:8080/"
        },
        "id": "QC7WJTKLqN-v",
        "outputId": "f0579e03-e686-4625-fb83-6237c6954cfe"
      },
      "outputs": [
        {
          "output_type": "stream",
          "name": "stdout",
          "text": [
            "https://www.ibm.com/cloud?lnk=hpUSbt1\n"
          ]
        }
      ],
      "source": [
        "for link in soup.find_all('a'):  # in html anchor/link is represented by the tag <a>\n",
        "    print(link.get('href'))"
      ]
    },
    {
      "cell_type": "markdown",
      "metadata": {
        "id": "k0WpdDntqN-v"
      },
      "source": [
        "Scrape  all images\n"
      ]
    },
    {
      "cell_type": "code",
      "execution_count": null,
      "metadata": {
        "colab": {
          "base_uri": "https://localhost:8080/"
        },
        "id": "ajxao72-qN-v",
        "outputId": "86b869c5-f411-4e82-c50f-9fcc87753a9b"
      },
      "outputs": [
        {
          "output_type": "stream",
          "name": "stdout",
          "text": [
            "/content/dam/adobe-cms/default-images/home-consultants.component.crop-16by9-xl.ts=1700743804887.jpg/content/adobe-cms/us/en/homepage/_jcr_content/root/table_of_contents/simple_image\n"
          ]
        }
      ],
      "source": [
        "for link in soup.find_all('img'):# in html image is represented by the tag <img>\n",
        "    print(link.get('src'))"
      ]
    },
    {
      "cell_type": "markdown",
      "metadata": {
        "id": "TBnZeXCuqN-w"
      },
      "source": [
        "## Scrape data from html tables\n"
      ]
    },
    {
      "cell_type": "code",
      "execution_count": null,
      "metadata": {
        "id": "5igE3j37qN-w"
      },
      "outputs": [],
      "source": [
        "#The below url contains a html table with data about colors and color codes."
      ]
    },
    {
      "cell_type": "code",
      "execution_count": null,
      "metadata": {
        "id": "DwCqjkDOqN-x"
      },
      "outputs": [],
      "source": [
        "url = \"https://cf-courses-data.s3.us.cloud-object-storage.appdomain.cloud/IBM-DA0321EN-SkillsNetwork/labs/datasets/HTMLColorCodes.html\""
      ]
    },
    {
      "cell_type": "markdown",
      "metadata": {
        "id": "xpt2PKf7qN-x"
      },
      "source": [
        "Before proceeding to scrape a web site, you need to examine the contents, and the way data is organized on the website. Open the above url in your browser and check how many rows and columns are there in the color table.\n"
      ]
    },
    {
      "cell_type": "code",
      "execution_count": null,
      "metadata": {
        "id": "--P0a5fAqN-x"
      },
      "outputs": [],
      "source": [
        "# get the contents of the webpage in text format and store in a variable called data\n",
        "data  = requests.get(url).text"
      ]
    },
    {
      "cell_type": "code",
      "execution_count": null,
      "metadata": {
        "id": "GGMbBTwtqN-y"
      },
      "outputs": [],
      "source": [
        "soup = BeautifulSoup(data,\"html5lib\")"
      ]
    },
    {
      "cell_type": "code",
      "execution_count": null,
      "metadata": {
        "id": "fp3TKPttqN-y"
      },
      "outputs": [],
      "source": [
        "#find a html table in the web page\n",
        "table = soup.find('table') # in html table is represented by the tag <table>"
      ]
    },
    {
      "cell_type": "code",
      "execution_count": null,
      "metadata": {
        "colab": {
          "base_uri": "https://localhost:8080/"
        },
        "id": "PbZI55lMqN-z",
        "outputId": "aee0478e-fe9b-42fe-9875-902ca7108414"
      },
      "outputs": [
        {
          "output_type": "stream",
          "name": "stdout",
          "text": [
            "Color Name--->Hex Code#RRGGBB\n",
            "lightsalmon--->#FFA07A\n",
            "salmon--->#FA8072\n",
            "darksalmon--->#E9967A\n",
            "lightcoral--->#F08080\n",
            "coral--->#FF7F50\n",
            "tomato--->#FF6347\n",
            "orangered--->#FF4500\n",
            "gold--->#FFD700\n",
            "orange--->#FFA500\n",
            "darkorange--->#FF8C00\n",
            "lightyellow--->#FFFFE0\n",
            "lemonchiffon--->#FFFACD\n",
            "papayawhip--->#FFEFD5\n",
            "moccasin--->#FFE4B5\n",
            "peachpuff--->#FFDAB9\n",
            "palegoldenrod--->#EEE8AA\n",
            "khaki--->#F0E68C\n",
            "darkkhaki--->#BDB76B\n",
            "yellow--->#FFFF00\n",
            "lawngreen--->#7CFC00\n",
            "chartreuse--->#7FFF00\n",
            "limegreen--->#32CD32\n",
            "lime--->#00FF00\n",
            "forestgreen--->#228B22\n",
            "green--->#008000\n",
            "powderblue--->#B0E0E6\n",
            "lightblue--->#ADD8E6\n",
            "lightskyblue--->#87CEFA\n",
            "skyblue--->#87CEEB\n",
            "deepskyblue--->#00BFFF\n",
            "lightsteelblue--->#B0C4DE\n",
            "dodgerblue--->#1E90FF\n"
          ]
        }
      ],
      "source": [
        "#Get all rows from the table\n",
        "for row in table.find_all('tr'): # in html table row is represented by the tag <tr>\n",
        "    # Get all columns in each row.\n",
        "    cols = row.find_all('td') # in html a column is represented by the tag <td>\n",
        "    color_name = cols[2].getText() # store the value in column 3 as color_name\n",
        "    color_code = cols[3].getText() # store the value in column 4 as color_code\n",
        "    print(\"{}--->{}\".format(color_name,color_code))"
      ]
    },
    {
      "cell_type": "markdown",
      "metadata": {
        "id": "MFiF1P1lqN-z"
      },
      "source": [
        "## Authors\n"
      ]
    },
    {
      "cell_type": "markdown",
      "metadata": {
        "id": "h6cFP3p9qN-0"
      },
      "source": [
        "Ramesh Sannareddy\n"
      ]
    },
    {
      "cell_type": "markdown",
      "metadata": {
        "id": "ifn7CHlUqN-1"
      },
      "source": [
        "### Other Contributors\n"
      ]
    },
    {
      "cell_type": "markdown",
      "metadata": {
        "id": "9zE2XiJGqN-1"
      },
      "source": [
        "Rav Ahuja\n"
      ]
    },
    {
      "cell_type": "markdown",
      "metadata": {
        "id": "9sWPzxWgqN-1"
      },
      "source": [
        "## Change Log\n"
      ]
    },
    {
      "cell_type": "markdown",
      "metadata": {
        "id": "wznw9dBVqN-2"
      },
      "source": [
        "|  Date (YYYY-MM-DD) |  Version | Changed By  |  Change Description |\n",
        "|---|---|---|---|\n",
        "| 2020-10-17  | 0.1  | Ramesh Sannareddy  |  Created initial version of the lab |\n"
      ]
    },
    {
      "cell_type": "markdown",
      "metadata": {
        "id": "w0HR0p8CqN-2"
      },
      "source": [
        " Copyright &copy; 2020 IBM Corporation. This notebook and its source code are released under the terms of the [MIT License](https://cognitiveclass.ai/mit-license/?utm_medium=Exinfluencer&utm_source=Exinfluencer&utm_content=000026UJ&utm_term=10006555&utm_id=NA-SkillsNetwork-Channel-SkillsNetworkCoursesIBMDA0321ENSkillsNetwork928-2022-01-01).\n"
      ]
    }
  ],
  "metadata": {
    "kernelspec": {
      "display_name": "Python",
      "language": "python",
      "name": "conda-env-python-py"
    },
    "language_info": {
      "name": ""
    },
    "colab": {
      "provenance": []
    }
  },
  "nbformat": 4,
  "nbformat_minor": 0
}